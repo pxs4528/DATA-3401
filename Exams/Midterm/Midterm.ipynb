{
 "cells": [
  {
   "cell_type": "markdown",
   "metadata": {},
   "source": [
    "Exercise 1\n",
    "Write a script or function that asks the user to input 3 numbers (floats or ints), and output the product of the 3 numbers.\n",
    "You may use the input() function to take user input, or you may write a function with 3 input arguments without using input()\n",
    "Your code should display an error message if one of the inputs is not a number.\n",
    "Test your code on the following inputs:\n",
    "(5, -10, 20.0)\n",
    "(1, \"blah\", 5)\n"
   ]
  },
  {
   "cell_type": "code",
   "execution_count": null,
   "metadata": {},
   "outputs": [],
   "source": [
    "x = float(input(\"enter the first input: \"))\n",
    "y = float(input(\"enter the second input: \"))\n",
    "z = float(input(\"enter the third input: \"))\n",
    "print(\"the product is: \",  x * y * z)"
   ]
  },
  {
   "cell_type": "markdown",
   "metadata": {},
   "source": [
    "Exercise 2\n",
    "Suppose the first element of a sequence is , the second element is , and for every , the --th element of the sequence is defined by the recursive relation \n",
    " \n",
    ". (So )\n",
    "\n",
    "Write a function which outputs the --th element of this sequence for a given positive integer \n",
    "Test your function for  and "
   ]
  },
  {
   "cell_type": "code",
   "execution_count": null,
   "metadata": {},
   "outputs": [],
   "source": []
  },
  {
   "cell_type": "markdown",
   "metadata": {},
   "source": [
    "Exercise 3\n",
    "Write a function which takes a list as input and outputs the largest integer entry. If there is none, return None.\n",
    "Test your function on the following lists\n",
    "[ 1, 9, 10.2, 6, -2]\n",
    "[1.2, 3/4, \"Hello World\"]\n"
   ]
  },
  {
   "cell_type": "code",
   "execution_count": 25,
   "metadata": {},
   "outputs": [
    {
     "name": "stdout",
     "output_type": "stream",
     "text": [
      "10.2\n",
      "1.2\n",
      "None\n"
     ]
    }
   ],
   "source": [
    "import sys\n",
    "lst1 = [1,9,10.2,6,-2]\n",
    "lst2 = [1.2,3/4,\"Hello World\"]\n",
    "lst3 = [\"hello world\", \"return\"]\n",
    "def maxEL(lst):\n",
    "    for i in range(len(lst)):\n",
    "        if(type(lst[i]) == str):\n",
    "            lst[i] = -sys.maxsize - 1\n",
    "    Max = lst[0]\n",
    "    for i in range(len(lst)):\n",
    "        if(type(lst[i]) == str):\n",
    "            lst[i] = -sys.maxsize - 1\n",
    "        if(lst[i] > Max):\n",
    "            Max = lst[i]\n",
    "    if(Max == -sys.maxsize -1):\n",
    "        return None\n",
    "    else:\n",
    "        return Max\n",
    "\n",
    "print(maxEL(lst1))\n",
    "print(maxEL(lst2))\n",
    "print(maxEL(lst3))"
   ]
  },
  {
   "cell_type": "markdown",
   "metadata": {},
   "source": [
    "Exercise 4\n",
    "Write a function that takes in a list of tuples, each of which contains three parts: name, month, day corresponding to a person's birthday, for example ('Tony Stark', 'March', 14). Your function should output True if any two people have the same birthday, and False if no two people have the same birthday.\n",
    "Test your function on the set of people [('Thor', 'August',10), ('Phil Coulson','July',8),('T\\'Challa','November',29),('Peter Parker','August',10), ('Tony Stark', 'March', 14)]\n",
    "Create your own list of people with all distinct birthdays and test your function on your list.\n"
   ]
  },
  {
   "cell_type": "code",
   "execution_count": 20,
   "metadata": {},
   "outputs": [
    {
     "name": "stdout",
     "output_type": "stream",
     "text": [
      "True\n",
      "None\n"
     ]
    }
   ],
   "source": [
    "lst = [('tony stark', 'march', 14), ('Thor', 'August',10), ('Phil Coulson','July',8),('T\\'Challa','November',29),('Peter Parker','August',10)]\n",
    "lst2 = [('parth sharma', 'october', 24), ('james', 'july', 12), ('juan', 'october', 23), ('casey', 'june', 24)]\n",
    "def same_birth(lst):\n",
    "    for i in range(len(lst)):\n",
    "        for j in range(len(lst)):\n",
    "            if(lst[i][1] == lst[j][1] and lst[i][2] == lst[j][2] and lst[i][0] != lst[j][0]):\n",
    "                return True\n",
    "print(same_birth(lst))\n",
    "print(same_birth(lst2))"
   ]
  },
  {
   "cell_type": "markdown",
   "metadata": {},
   "source": [
    "Exercise 5\n",
    "For this exercise, you are not allowed to use the .replace() function or a similar single string command to complete the exercise. For example, you could make a list of the input string and then use list manipulations to complete the task.\n",
    "\n",
    "Write a function or script that takes in two strings, and returns the first string minus all instances of the second string. You may assume the second string is a single character. For example, an input of \"Hello World\" where \"l\" is removed should result in \"Heo Word\".\n",
    "Test your function by specifying \"i\" to be removed from \"Supercalifragilisticexpialidocious\"\n",
    "Bonus: Modify your function to allow the second string to be more than one characer. Test your new function by specifying \"data\" to be removed from \"data 3401 introduction to python for data science\". (This should result in ' 3401 introduction to python for science'\n",
    "\n",
    "Example: if your function is called replace_string(str1,str2), then for part 2 you should print replace_string('Supercalifragilisticexpialidocious','i') and for the bonus you should print replace_string('data 3401 introduction to python for data science','data')"
   ]
  },
  {
   "cell_type": "code",
   "execution_count": 39,
   "metadata": {},
   "outputs": [
    {
     "name": "stdout",
     "output_type": "stream",
     "text": [
      "Supercalfraglstcexpaldocous\n"
     ]
    }
   ],
   "source": [
    "string1 = 'Supercalifragilisticexpialidocious'\n",
    "delimeter1 = 'i'\n",
    "string2 = 'data 3401 introduction to python for data science'\n",
    "delimeter2 = 'data'\n",
    "\n",
    "def replace_string(string, delimeter):\n",
    "    lst = list(string)\n",
    "    for i in range(len(lst)):\n",
    "        if(lst[i] == delimeter):\n",
    "            lst[i] = ''\n",
    "    print(\"\".join(lst))\n",
    "replace_string(string1, delimeter1)         "
   ]
  }
 ],
 "metadata": {
  "kernelspec": {
   "display_name": "Python 3.10.5 64-bit",
   "language": "python",
   "name": "python3"
  },
  "language_info": {
   "codemirror_mode": {
    "name": "ipython",
    "version": 3
   },
   "file_extension": ".py",
   "mimetype": "text/x-python",
   "name": "python",
   "nbconvert_exporter": "python",
   "pygments_lexer": "ipython3",
   "version": "3.10.5"
  },
  "orig_nbformat": 4,
  "vscode": {
   "interpreter": {
    "hash": "26de051ba29f2982a8de78e945f0abaf191376122a1563185a90213a26c5da77"
   }
  }
 },
 "nbformat": 4,
 "nbformat_minor": 2
}
