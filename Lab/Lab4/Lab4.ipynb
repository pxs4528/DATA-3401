{
 "cells": [
  {
   "cell_type": "markdown",
   "metadata": {},
   "source": [
    "Exercise 1\n",
    "Write a function that takes in a list and outputs a list with the elements in reverse order without using a command like lst[::-1]."
   ]
  },
  {
   "cell_type": "code",
   "execution_count": 7,
   "metadata": {},
   "outputs": [
    {
     "data": {
      "text/plain": [
       "[3.542, 53, 'parth', 42, 5, 1]"
      ]
     },
     "execution_count": 7,
     "metadata": {},
     "output_type": "execute_result"
    }
   ],
   "source": [
    "x = [1,5,42,\"parth\",53,3.542]\n",
    "y =[]\n",
    "for i in reversed(x):\n",
    "    y.append(i)\n",
    "y"
   ]
  },
  {
   "cell_type": "markdown",
   "metadata": {},
   "source": [
    "Exercise 2\n",
    "Write a function that takes in a string str and without using string manipulation like str[::-1] outputs a string with the characters of str in reverse order. For example, if the input is Hello, then the output should be olleH.\n",
    "\n",
    "There are many ways to do this, but you may find the command list('Hello') (change Hello to any string) useful. You may also find your solution to Exercise 1 helpful."
   ]
  },
  {
   "cell_type": "code",
   "execution_count": 6,
   "metadata": {},
   "outputs": [
    {
     "data": {
      "text/plain": [
       "'olleH'"
      ]
     },
     "execution_count": 6,
     "metadata": {},
     "output_type": "execute_result"
    }
   ],
   "source": [
    "x = \"Hello\"\n",
    "y = \"\"\n",
    "for i in reversed(x):\n",
    "    y = y + i\n",
    "y"
   ]
  },
  {
   "cell_type": "markdown",
   "metadata": {},
   "source": [
    "Exercise 3\n",
    "Write a function that computes the first  twin primes for a given positive integer . Twin primes are consecutive prime numbers separated by 2. The first few twin primes are (3,5) (5,7) (11,13), (17,19), and so on. Test your function for  and ."
   ]
  },
  {
   "cell_type": "code",
   "execution_count": 13,
   "metadata": {},
   "outputs": [
    {
     "name": "stdout",
     "output_type": "stream",
     "text": [
      "3 and 5\n",
      "5 and 7\n",
      "11 and 13\n",
      "17 and 19\n"
     ]
    }
   ],
   "source": [
    "from math import sqrt\n",
    "\n",
    "def is_prime(k):\n",
    "    prime_flag = 0\n",
    " \n",
    "    if(k > 1):\n",
    "        for i in range(2, int(sqrt(k)) + 1):\n",
    "            if (k % i == 0):\n",
    "                prime_flag = 1\n",
    "                break\n",
    "        if (prime_flag == 0):\n",
    "            return True\n",
    "        else:\n",
    "            return False\n",
    "    else:\n",
    "        return False\n",
    "n = int(input(\"Enter the value of n\")) #4\n",
    "p = 0\n",
    "prime = 3;\n",
    "while(p < n):\n",
    "    if(is_prime(prime) and is_prime(prime+2)):\n",
    "        p = p + 1\n",
    "        print(\"{:d} and {:d}\".format(prime, prime+2))\n",
    "        prime = prime + 2\n",
    "    else:\n",
    "        prime = prime + 1"
   ]
  },
  {
   "cell_type": "markdown",
   "metadata": {},
   "source": [
    "Exercise 4\n",
    "Write a function that takes in a list of lists (such as [[1,2,3],[0,1,0],[4,2,4]]) where each sublist has the same number of elements, then draws a board like the one below, but where each empty space has the corresponding element of the list.\n",
    "\n",
    "The list above would result in the following:"
   ]
  },
  {
   "cell_type": "code",
   "execution_count": 20,
   "metadata": {},
   "outputs": [
    {
     "name": "stdout",
     "output_type": "stream",
     "text": [
      "----\n",
      "| 1\n",
      "----\n",
      "| 2\n",
      "----\n",
      "| 3\n",
      "----\n",
      "| 0\n",
      "----\n",
      "| 1\n",
      "----\n",
      "| 0\n",
      "----\n",
      "| 4\n",
      "----\n",
      "| 2\n",
      "----\n",
      "| 4\n"
     ]
    }
   ],
   "source": [
    "x = [[1,2,3],[0,1,0],[4,2,4]]\n",
    "for row in x:\n",
    "    for el in row:\n",
    "        print(\"----\\n|\" , el)\n",
    "        #print(\"|\" , el)\n",
    "\n",
    "#print(row)\n",
    "\n"
   ]
  },
  {
   "cell_type": "markdown",
   "metadata": {},
   "source": [
    "Exercise 5\n",
    "Write a function that takes in a list of lists of size  and checks if the diagonal consists of all the same number. For example, [[2,2,3],[0,2,1],[1,1,2]] would yield a result of True, whereas the array in Exercise 4 would produce a result of False"
   ]
  },
  {
   "cell_type": "code",
   "execution_count": 34,
   "metadata": {},
   "outputs": [
    {
     "name": "stdout",
     "output_type": "stream",
     "text": [
      "3\n",
      "[1, 1, 1]\n",
      "Digonal numbers are equal\n"
     ]
    }
   ],
   "source": [
    "x = [[1,2,3],[0,1,0],[4,2,1]]\n",
    "print(len(x))\n",
    "y = [x[i][i] for i in range(len(x))]\n",
    "print(y)\n",
    "if((y[0] == y[1]) and (y[1] == y[2])):\n",
    "    print(\"Digonal numbers are equal\")\n",
    "else:\n",
    "    print(\"not equal\")"
   ]
  },
  {
   "cell_type": "markdown",
   "metadata": {},
   "source": [
    "Exercise 6\n",
    "Write 3 functions that take in a list of lists of size  with each entry being either 0 or 1.\n",
    "\n",
    "The first function row_winner() will return True if any row has all the same entries (for example [[1,1,1],[1,0,1],[0,0,0]] and False otherwise.\n",
    "The second function col_winner() will return True if any column has all the same entries and False otherwise.\n",
    "The third function diagonal_winner() will return True if the diagonal or anti-diagonal has all the same entries and False otherwise. (For example [[1,0,1],[0,1,1],[1,0,0]] has an anti-diagonal of all 1s."
   ]
  },
  {
   "cell_type": "code",
   "execution_count": 14,
   "metadata": {},
   "outputs": [
    {
     "name": "stdout",
     "output_type": "stream",
     "text": [
      "[[1, 0, 1], [1, 1, 1], [1, 0, 0]]\n",
      "row not complete\n",
      "col complete\n",
      "diagonal not complete\n"
     ]
    },
    {
     "data": {
      "text/plain": [
       "False"
      ]
     },
     "execution_count": 14,
     "metadata": {},
     "output_type": "execute_result"
    }
   ],
   "source": [
    "def col_completion(x):\n",
    "    for i in range(len(x)):\n",
    "        if((x[0][i] == x[1][i]) and (x[1][i] == x[2][i])):\n",
    "            print(\"col complete\")\n",
    "            return True\n",
    "        else:\n",
    "            print(\"col not complete\")\n",
    "            return False\n",
    "def row_completion(x):\n",
    "    for i in range(len(x)):\n",
    "        if((x[i][0] == x[i][1]) and (x[i][1] == x[i][2])):\n",
    "            print(\"row complete\")\n",
    "            return True\n",
    "        else:\n",
    "            print(\"row not complete\")\n",
    "            return False\n",
    "def diagonal_completion(x):\n",
    "    y = [x[i][i] for i in range(len(x))]\n",
    "    if((y[0] == y[1]) and (y[1] == y[2])):\n",
    "        print(\"digonal complete\")\n",
    "        return True\n",
    "    else:\n",
    "        print(\"diagonal not complete\")\n",
    "        return False\n",
    "x = [[1,0,1],[1,1,1],[1,0,0]]\n",
    "print(x)\n",
    "row_completion(x)\n",
    "col_completion(x)\n",
    "diagonal_completion(x)"
   ]
  }
 ],
 "metadata": {
  "kernelspec": {
   "display_name": "Python 3.10.5 64-bit",
   "language": "python",
   "name": "python3"
  },
  "language_info": {
   "codemirror_mode": {
    "name": "ipython",
    "version": 3
   },
   "file_extension": ".py",
   "mimetype": "text/x-python",
   "name": "python",
   "nbconvert_exporter": "python",
   "pygments_lexer": "ipython3",
   "version": "3.10.5"
  },
  "orig_nbformat": 4,
  "vscode": {
   "interpreter": {
    "hash": "26de051ba29f2982a8de78e945f0abaf191376122a1563185a90213a26c5da77"
   }
  }
 },
 "nbformat": 4,
 "nbformat_minor": 2
}
