{
 "cells": [
  {
   "cell_type": "code",
   "execution_count": null,
   "metadata": {},
   "outputs": [],
   "source": [
    "import random\n",
    "import numpy as np\n",
    "def game_setup():\n",
    "    doors = np.array([0,1,2])\n",
    "    prizes = np.array([0,1])\n",
    "    tests = 1000\n",
    "    a = np.random.choice([0,1,2],replace=True)\n",
    "    door_prize = [doors, prizes, a]\n",
    "    return door_prize\n",
    "\n",
    "def choose_door():\n",
    "    user = (input(\"Choose a door from 0,1,2:\"))\n",
    "    while True:\n",
    "        try:\n",
    "            user = int(user)\n",
    "        except ValueError:\n",
    "            print(\"only numbers\")\n",
    "            user = (input(\"Choose a door from 0,1,2:\"))\n",
    "            continue\n",
    "        if not user < 0 and not user > 2:\n",
    "            break\n",
    "        else:\n",
    "            user = (input(\"Choose a door from 0,1,2:\"))\n",
    "\n",
    "    return user\n",
    "\n",
    "def switch_stay():\n",
    "    switch = input(\"Do you wanna switch? (y/n)\")\n",
    "    while not isinstance(switch,(str)):\n",
    "        print(\"Error, Enter y/n!\")\n",
    "        switch = input(\"Do you wanna switch? (y/n)\")\n",
    "    while switch != 'y' and switch != 'n':\n",
    "        print(\"Error! Enter y/n!\")\n",
    "        switch = input(\"Do you wanna switch? (y/n)\")\n",
    "    return switch\n",
    "\n",
    "def game():\n",
    "    init = game_setup()\n",
    "    prize_door = init[2]\n",
    "    doors = init[0]\n",
    "    shown_door = -1\n",
    "    user_choice = choose_door()\n",
    "    if user_choice == prize_door:\n",
    "        for i in doors:\n",
    "            if i != user_choice and i != prize_door:\n",
    "                shown_door = i\n",
    "    \n",
    "    if user_choice != prize_door:\n",
    "        for i in doors:\n",
    "            if i != user_choice and i != prize_door:\n",
    "                shown_door = i\n",
    "\n",
    "    print(\"I will open this door\", shown_door)\n",
    "    decision = switch_stay()\n",
    "    switch = -1\n",
    "    if decision == 'y':\n",
    "        for i in doors:\n",
    "            if i != user_choice and i != shown_door:\n",
    "                switch = i\n",
    "                user_choice = switch\n",
    "    if user_choice == prize_door:\n",
    "        print(\"You have won!!!!!!\")\n",
    "    elif user_choice != prize_door:\n",
    "        print(\"Sorry!! Tough Loss\")\n",
    "game()"
   ]
  },
  {
   "cell_type": "code",
   "execution_count": 7,
   "metadata": {},
   "outputs": [
    {
     "name": "stdout",
     "output_type": "stream",
     "text": [
      "[56. 50. 52. 54. 49. 57. 47. 58. 55. 48. 57. 57. 54. 57. 62. 54. 51. 52.\n",
      " 60. 51. 57. 57. 46. 55. 52. 58. 55. 62. 55. 59. 57. 59. 65. 55. 62. 51.\n",
      " 58. 56. 57. 64. 56. 58. 49. 50. 55. 60. 46. 52. 50. 52. 58. 61. 61. 56.\n",
      " 59. 59. 48. 65. 54. 58. 60. 60. 50. 46. 54. 53. 49. 61. 57. 61. 56. 62.\n",
      " 44. 60. 52. 56. 52. 63. 51. 63. 53. 58. 57. 61. 60. 59. 56. 62. 56. 61.\n",
      " 56. 59. 59. 54. 49. 64. 55. 52. 50. 51.]\n"
     ]
    },
    {
     "data": {
      "text/plain": [
       "<function matplotlib.pyplot.show(close=None, block=None)>"
      ]
     },
     "execution_count": 7,
     "metadata": {},
     "output_type": "execute_result"
    },
    {
     "data": {
      "image/png": "[encoded data removed]",
      "text/plain": [
       "<Figure size 640x480 with 1 Axes>"
      ]
     },
     "metadata": {},
     "output_type": "display_data"
    }
   ],
   "source": [
    "import random\n",
    "import numpy as np\n",
    "import matplotlib\n",
    "from matplotlib import pyplot as plt\n",
    "def game_setup():\n",
    "    doors = np.array([0,1,2])\n",
    "    prizes = np.array([0,1])\n",
    "    tests = 1000\n",
    "    a = np.random.choice([0,1,2],replace=True)\n",
    "    door_prize = [doors, prizes, a]\n",
    "    return door_prize\n",
    "\n",
    "def choose_door():\n",
    "    user = np.random.choice([0,1,2],replace=True)\n",
    "    while True:\n",
    "        try:\n",
    "            user = int(user)\n",
    "        except ValueError:\n",
    "            print(\"only numbers\")\n",
    "            user = (input(\"Choose a door from 0,1,2:\"))\n",
    "            continue\n",
    "        if not user < 0 and not user > 2:\n",
    "            break\n",
    "        else:\n",
    "            user = (input(\"Choose a door from 0,1,2:\"))\n",
    "\n",
    "    return user\n",
    "\n",
    "def switch_stay():\n",
    "    switch = input(\"Do you wanna switch? (y/n)\")\n",
    "    while not isinstance(switch,(str)):\n",
    "        print(\"Error, Enter y/n!\")\n",
    "        switch = input(\"Do you wanna switch? (y/n)\")\n",
    "    while switch != 'y' and switch != 'n':\n",
    "        print(\"Error! Enter y/n!\")\n",
    "        switch = input(\"Do you wanna switch? (y/n)\")\n",
    "    return switch\n",
    "\n",
    "def game():\n",
    "    init = game_setup()\n",
    "    prize_door = init[2]\n",
    "    doors = init[0]\n",
    "    shown_door = -1\n",
    "    user_choice = choose_door()\n",
    "    if user_choice == prize_door:\n",
    "        for i in doors:\n",
    "            if i != user_choice and i != prize_door:\n",
    "                shown_door = i\n",
    "    \n",
    "    if user_choice != prize_door:\n",
    "        for i in doors:\n",
    "            if i != user_choice and i != prize_door:\n",
    "                shown_door = i\n",
    "\n",
    "    decision = 'y'\n",
    "    switch = -1\n",
    "    if decision == 'y':\n",
    "        for i in doors:\n",
    "            if i != user_choice and i != shown_door:\n",
    "                switch = i\n",
    "                user_choice = switch\n",
    "    if user_choice == prize_door:\n",
    "            return 1\n",
    "    elif user_choice != prize_door:\n",
    "        return 0\n",
    "num_trials = 100\n",
    "lst = []\n",
    "arr = np.zeros([num_trials,num_trials])\n",
    "for i in range(num_trials):\n",
    "    for j in range(num_trials):\n",
    "        arr[i][j] = game()\n",
    "winners = np.sum(arr, axis=0)\n",
    "print(winners)\n",
    "plt.hist(winners, bins= 15, range= (min(winners), max(winners)))\n",
    "plt.show"
   ]
  },
  {
   "cell_type": "code",
   "execution_count": 8,
   "metadata": {},
   "outputs": [
    {
     "name": "stdout",
     "output_type": "stream",
     "text": [
      "[29. 33. 23. 34. 23. 29. 37. 27. 37. 26. 36. 31. 39. 31. 36. 28. 32. 35.\n",
      " 30. 35. 35. 38. 32. 30. 35. 28. 31. 45. 28. 42. 33. 34. 28. 35. 33. 36.\n",
      " 36. 33. 34. 31. 39. 33. 34. 34. 32. 24. 28. 36. 32. 36. 39. 30. 32. 40.\n",
      " 37. 38. 27. 23. 27. 40. 37. 27. 33. 37. 34. 32. 31. 36. 27. 38. 31. 24.\n",
      " 33. 37. 38. 33. 32. 31. 31. 32. 34. 39. 30. 33. 34. 20. 38. 29. 28. 32.\n",
      " 26. 33. 31. 37. 29. 32. 32. 30. 45. 35.]\n"
     ]
    },
    {
     "data": {
      "text/plain": [
       "<function matplotlib.pyplot.show(close=None, block=None)>"
      ]
     },
     "execution_count": 8,
     "metadata": {},
     "output_type": "execute_result"
    },
    {
     "data": {
      "image/png": "[encoded data removed]",
      "text/plain": [
       "<Figure size 640x480 with 1 Axes>"
      ]
     },
     "metadata": {},
     "output_type": "display_data"
    }
   ],
   "source": [
    "import random\n",
    "import numpy as np\n",
    "import matplotlib\n",
    "from matplotlib import pyplot as plt\n",
    "def game_setup():\n",
    "    doors = np.array([0,1,2])\n",
    "    prizes = np.array([0,1])\n",
    "    tests = 1000\n",
    "    a = np.random.choice([0,1,2],replace=True)\n",
    "    door_prize = [doors, prizes, a]\n",
    "    return door_prize\n",
    "\n",
    "def choose_door():\n",
    "    user = np.random.choice([0,1,2],replace=True)\n",
    "    while True:\n",
    "        try:\n",
    "            user = int(user)\n",
    "        except ValueError:\n",
    "            print(\"only numbers\")\n",
    "            user = (input(\"Choose a door from 0,1,2:\"))\n",
    "            continue\n",
    "        if not user < 0 and not user > 2:\n",
    "            break\n",
    "        else:\n",
    "            user = (input(\"Choose a door from 0,1,2:\"))\n",
    "\n",
    "    return user\n",
    "\n",
    "def switch_stay():\n",
    "    switch = input(\"Do you wanna switch? (y/n)\")\n",
    "    while not isinstance(switch,(str)):\n",
    "        print(\"Error, Enter y/n!\")\n",
    "        switch = input(\"Do you wanna switch? (y/n)\")\n",
    "    while switch != 'y' and switch != 'n':\n",
    "        print(\"Error! Enter y/n!\")\n",
    "        switch = input(\"Do you wanna switch? (y/n)\")\n",
    "    return switch\n",
    "\n",
    "def game():\n",
    "    init = game_setup()\n",
    "    prize_door = init[2]\n",
    "    doors = init[0]\n",
    "    shown_door = -1\n",
    "    user_choice = choose_door()\n",
    "    if user_choice == prize_door:\n",
    "        for i in doors:\n",
    "            if i != user_choice and i != prize_door:\n",
    "                shown_door = i\n",
    "    \n",
    "    if user_choice != prize_door:\n",
    "        for i in doors:\n",
    "            if i != user_choice and i != prize_door:\n",
    "                shown_door = i\n",
    "\n",
    "    decision = 'n'\n",
    "    switch = -1\n",
    "    if decision == 'y':\n",
    "        for i in doors:\n",
    "            if i != user_choice and i != shown_door:\n",
    "                switch = i\n",
    "                user_choice = switch\n",
    "    if user_choice == prize_door:\n",
    "            return 1\n",
    "    elif user_choice != prize_door:\n",
    "        return 0\n",
    "num_trials = 100\n",
    "lst = []\n",
    "arr = np.zeros([num_trials,num_trials])\n",
    "for i in range(num_trials):\n",
    "    for j in range(num_trials):\n",
    "        arr[i][j] = game()\n",
    "winners = np.sum(arr, axis=0)\n",
    "print(winners)\n",
    "plt.hist(winners, bins= 15, range= (min(winners), max(winners)))\n",
    "plt.show"
   ]
  },
  {
   "cell_type": "markdown",
   "metadata": {},
   "source": [
    "Based on my observation the player should always switch.\n",
    "Switch - 2/3\n",
    "Stay - 1/3\n",
    "Let's say the player chooses Door 1\n",
    "then the host reveals door 3, (prize is door 2)\n",
    "then player should switch here to win.\n",
    "\n",
    "Player choice = 2\n",
    "Host reveal = 1 or 3\n",
    "player should not switch\n",
    "\n",
    "Player choice = 3\n",
    "host reveal = 1\n",
    "player should switch to win\n",
    "\n",
    "## Always Switching gives 2/3 probability"
   ]
  },
  {
   "cell_type": "markdown",
   "metadata": {},
   "source": [
    "## Never Switching gives 1/3 probability of winning\n",
    "\n",
    "Probability ( Winning) = P(W) = 2/3\n",
    "Probability (Losing) = P(L) = 1/3"
   ]
  }
 ],
 "metadata": {
  "kernelspec": {
   "display_name": "Python 3.10.5 64-bit",
   "language": "python",
   "name": "python3"
  },
  "language_info": {
   "codemirror_mode": {
    "name": "ipython",
    "version": 3
   },
   "file_extension": ".py",
   "mimetype": "text/x-python",
   "name": "python",
   "nbconvert_exporter": "python",
   "pygments_lexer": "ipython3",
   "version": "3.10.5"
  },
  "orig_nbformat": 4,
  "vscode": {
   "interpreter": {
    "hash": "26de051ba29f2982a8de78e945f0abaf191376122a1563185a90213a26c5da77"
   }
  }
 },
 "nbformat": 4,
 "nbformat_minor": 2
}
