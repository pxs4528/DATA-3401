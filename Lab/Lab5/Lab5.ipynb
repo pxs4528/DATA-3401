{
 "cells": [
  {
   "cell_type": "markdown",
   "metadata": {},
   "source": [
    "Exercise 1\n",
    "As in my checkers game, use the conventions below for players, empty space, and player pieces, and write a function that makes an empty  Tic-Tac-Toe board for a given input argument n."
   ]
  },
  {
   "cell_type": "code",
   "execution_count": 6,
   "metadata": {},
   "outputs": [
    {
     "name": "stdout",
     "output_type": "stream",
     "text": [
      " --- --- --- --- --- ---\n",
      "| "
     ]
    },
    {
     "ename": "NameError",
     "evalue": "name 'board' is not defined",
     "output_type": "error",
     "traceback": [
      "\u001b[1;31m---------------------------------------------------------------------------\u001b[0m",
      "\u001b[1;31mNameError\u001b[0m                                 Traceback (most recent call last)",
      "Cell \u001b[1;32mIn [6], line 33\u001b[0m\n\u001b[0;32m     31\u001b[0m         \u001b[38;5;28mprint\u001b[39m()  \n\u001b[0;32m     32\u001b[0m         \u001b[38;5;28mprint\u001b[39m(\u001b[38;5;124m\"\u001b[39m\u001b[38;5;124m ---\u001b[39m\u001b[38;5;124m\"\u001b[39m\u001b[38;5;241m*\u001b[39mnum_cols)\n\u001b[1;32m---> 33\u001b[0m make_board()\n",
      "Cell \u001b[1;32mIn [6], line 21\u001b[0m, in \u001b[0;36mmake_board\u001b[1;34m()\u001b[0m\n\u001b[0;32m     19\u001b[0m num_rows \u001b[38;5;241m=\u001b[39m \u001b[38;5;28mint\u001b[39m(\u001b[38;5;28minput\u001b[39m(\u001b[38;5;124m\"\u001b[39m\u001b[38;5;124menter number of n\u001b[39m\u001b[38;5;124m\"\u001b[39m))\n\u001b[0;32m     20\u001b[0m num_cols \u001b[38;5;241m=\u001b[39m num_rows\n\u001b[1;32m---> 21\u001b[0m \u001b[43mdraw_board\u001b[49m\u001b[43m(\u001b[49m\u001b[43mnum_rows\u001b[49m\u001b[43m,\u001b[49m\u001b[43m \u001b[49m\u001b[43mnum_cols\u001b[49m\u001b[43m,\u001b[49m\u001b[43m \u001b[49m\u001b[43mspace_character\u001b[49m\u001b[43m)\u001b[49m\n",
      "Cell \u001b[1;32mIn [6], line 29\u001b[0m, in \u001b[0;36mdraw_board\u001b[1;34m(num_rows, num_cols, space_character)\u001b[0m\n\u001b[0;32m     27\u001b[0m \u001b[38;5;28mprint\u001b[39m(\u001b[38;5;124m\"\u001b[39m\u001b[38;5;124m|\u001b[39m\u001b[38;5;124m\"\u001b[39m,end\u001b[38;5;241m=\u001b[39m\u001b[38;5;124m\"\u001b[39m\u001b[38;5;124m \u001b[39m\u001b[38;5;124m\"\u001b[39m)\n\u001b[0;32m     28\u001b[0m \u001b[38;5;28;01mfor\u001b[39;00m j \u001b[38;5;129;01min\u001b[39;00m \u001b[38;5;28mrange\u001b[39m(num_cols):\n\u001b[1;32m---> 29\u001b[0m     \u001b[38;5;28mprint\u001b[39m(space_character[\u001b[43mboard\u001b[49m[i][j]],end\u001b[38;5;241m=\u001b[39m\u001b[38;5;124m\"\u001b[39m\u001b[38;5;124m \u001b[39m\u001b[38;5;124m\"\u001b[39m)\n\u001b[0;32m     30\u001b[0m     \u001b[38;5;28mprint\u001b[39m(\u001b[38;5;124m\"\u001b[39m\u001b[38;5;124m|\u001b[39m\u001b[38;5;124m\"\u001b[39m,end\u001b[38;5;241m=\u001b[39m\u001b[38;5;124m\"\u001b[39m\u001b[38;5;124m \u001b[39m\u001b[38;5;124m\"\u001b[39m)\n\u001b[0;32m     31\u001b[0m \u001b[38;5;28mprint\u001b[39m()  \n",
      "\u001b[1;31mNameError\u001b[0m: name 'board' is not defined"
     ]
    }
   ],
   "source": [
    "def draw_board(num_rows,num_cols, space_character):\n",
    "    print(\" ---\"*num_cols)\n",
    "    for i in range(num_rows):\n",
    "        print(\"|\",end=\" \")\n",
    "        for j in range(num_cols):\n",
    "            print(space_character[board[i][j]],end=\" \")\n",
    "            print(\"|\",end=\" \")\n",
    "        print()  \n",
    "        print(\" ---\"*num_cols)\n",
    "def make_board():\n",
    "    # Abstract representation of players and empty space -- an empty board will be a list of lists of 0s (empty)\n",
    "    player_1 = 1\n",
    "    player_2 = 2\n",
    "    empty = 0\n",
    "\n",
    "# When we start drawing the board, we will place \"pieces\" down for each player. Player 1 will put down \"X\", \n",
    "# Player 2 will put down \"O\", and an empty space will be drawn as a space character\n",
    "    player_1_piece = \"X\"\n",
    "    player_2_piece = \"O\"\n",
    "    empty_space = \" \"\n",
    "\n",
    "# This dictionary will be used to draw the game board in Exercise 2.\n",
    "    space_character = {player_1: player_1_piece,\n",
    "                    player_2: player_2_piece,\n",
    "                    empty: empty_space}\n",
    "\n",
    "# Set size of the board to draw\n",
    "    num_rows = int(input(\"enter number of n\"))\n",
    "    num_cols = num_rows\n",
    "    draw_board(num_rows, num_cols, space_character)\n",
    "\n",
    "make_board()\n"
   ]
  }
 ],
 "metadata": {
  "kernelspec": {
   "display_name": "Python 3.10.6 64-bit",
   "language": "python",
   "name": "python3"
  },
  "language_info": {
   "codemirror_mode": {
    "name": "ipython",
    "version": 3
   },
   "file_extension": ".py",
   "mimetype": "text/x-python",
   "name": "python",
   "nbconvert_exporter": "python",
   "pygments_lexer": "ipython3",
   "version": "3.10.6"
  },
  "orig_nbformat": 4,
  "vscode": {
   "interpreter": {
    "hash": "26de051ba29f2982a8de78e945f0abaf191376122a1563185a90213a26c5da77"
   }
  }
 },
 "nbformat": 4,
 "nbformat_minor": 2
}
