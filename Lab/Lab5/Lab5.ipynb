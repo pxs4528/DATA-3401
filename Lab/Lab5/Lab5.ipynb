{
 "cells": [
  {
   "cell_type": "markdown",
   "metadata": {},
   "source": [
    "Exercise 1\n",
    "As in my checkers game, use the conventions below for players, empty space, and player pieces, and write a function that makes an empty  Tic-Tac-Toe board for a given input argument n."
   ]
  },
  {
   "cell_type": "code",
   "execution_count": 67,
   "metadata": {},
   "outputs": [
    {
     "data": {
      "text/plain": [
       "{1: ' ', 2: ' ', 3: ' ', 4: ' ', 5: ' ', 6: ' '}"
      ]
     },
     "execution_count": 67,
     "metadata": {},
     "output_type": "execute_result"
    }
   ],
   "source": [
    "n = int(input(\"enter n for rows and cols\"))\n",
    "theBoard = {}\n",
    "for i in range(1,n+1):\n",
    "    theBoard[i] = ' '\n",
    "\n",
    "board_keys = []\n",
    "\n",
    "for key in theBoard:\n",
    "    board_keys.append(key)\n",
    "l1 = list(theBoard.values())\n",
    "type(l1)\n",
    "theBoard"
   ]
  },
  {
   "cell_type": "markdown",
   "metadata": {},
   "source": [
    "Exercise 2\n",
    "In Lab 4, Exercise 4, you wrote a function to display a board based on a list of list input (If you were not successful, you may use the code below).\n",
    "\n",
    "Modify this function to add labels to the rows and columns. Rows should be labelled A, B, C, D, ... and columns should be labelled 1, 2, 3, 4, ... Your code will need to work to draw a board for any ."
   ]
  },
  {
   "cell_type": "code",
   "execution_count": 74,
   "metadata": {},
   "outputs": [
    {
     "name": "stdout",
     "output_type": "stream",
     "text": [
      " --- --- --- --- --- ---\n",
      "\n",
      "|   |   |   |   |   |   | \n",
      " --- --- --- --- --- ---\n",
      "\n",
      "|   |   |   |   |   |   | \n",
      " --- --- --- --- --- ---\n",
      "\n",
      "|   |   |   |   |   |   | \n",
      " --- --- --- --- --- ---\n",
      "\n",
      "|   |   |   |   |   |   | \n",
      " --- --- --- --- --- ---\n",
      "\n",
      "|   |   |   |   |   |   | \n",
      " --- --- --- --- --- ---\n",
      "\n",
      "|   |   |   |   |   |   | \n",
      " --- --- --- --- --- ---\n"
     ]
    }
   ],
   "source": [
    "def draw_board(board):\n",
    "    num_rows = len(board)\n",
    "    num_cols = len(board)\n",
    "      \n",
    "    print(\" ---\"*num_cols)\n",
    "    for i in range(num_rows):\n",
    "        print()\n",
    "        print(\"|\",end=\" \")\n",
    "        for j in range(num_cols):\n",
    "            l1[j] = ' '\n",
    "            print(l1[j],end=\" \")\n",
    "            print(\"|\",end=\" \")\n",
    "        print()  \n",
    "        print(\" ---\"*num_cols)\n",
    "draw_board(l1)"
   ]
  },
  {
   "cell_type": "markdown",
   "metadata": {},
   "source": [
    "Write a function make_move that takes in a board, player, and location, and puts the player's piece at the given location on the board (note there are some logical steps to check here just like in our checkers game).\n",
    "\n"
   ]
  },
  {
   "cell_type": "code",
   "execution_count": 75,
   "metadata": {},
   "outputs": [
    {
     "name": "stdout",
     "output_type": "stream",
     "text": [
      "{1: ' ', 2: ' ', 3: ' ', 4: ' '}\n",
      " --- --- --- ---\n",
      "\n",
      "|   |   |   |   | \n",
      " --- --- --- ---\n",
      "\n",
      "|   |   |   |   | \n",
      " --- --- --- ---\n",
      "\n",
      "|   |   |   |   | \n",
      " --- --- --- ---\n",
      "\n",
      "|   |   |   |   | \n",
      " --- --- --- ---\n",
      "It's your turn,X.Move to which place?\n",
      " \n",
      "That place is already filled.\n",
      "Move to which place?\n",
      " --- --- --- ---\n",
      "\n",
      "|   |   |   |   | \n",
      " --- --- --- ---\n",
      "\n",
      "|   |   |   |   | \n",
      " --- --- --- ---\n",
      "\n",
      "|   |   |   |   | \n",
      " --- --- --- ---\n",
      "\n",
      "|   |   |   |   | \n",
      " --- --- --- ---\n",
      "It's your turn,X.Move to which place?\n"
     ]
    },
    {
     "ename": "ValueError",
     "evalue": "invalid literal for int() with base 10: ''",
     "output_type": "error",
     "traceback": [
      "\u001b[1;31m---------------------------------------------------------------------------\u001b[0m",
      "\u001b[1;31mValueError\u001b[0m                                Traceback (most recent call last)",
      "Cell \u001b[1;32mIn [75], line 93\u001b[0m\n\u001b[0;32m     90\u001b[0m             theBoard[key] \u001b[38;5;241m=\u001b[39m \u001b[38;5;124m\"\u001b[39m\u001b[38;5;124m \u001b[39m\u001b[38;5;124m\"\u001b[39m\n\u001b[0;32m     92\u001b[0m         game(theBoard)\n\u001b[1;32m---> 93\u001b[0m \u001b[43mgame\u001b[49m\u001b[43m(\u001b[49m\u001b[43mtheBoard\u001b[49m\u001b[43m)\u001b[49m\n",
      "Cell \u001b[1;32mIn [75], line 23\u001b[0m, in \u001b[0;36mgame\u001b[1;34m(theBoard)\u001b[0m\n\u001b[0;32m     20\u001b[0m draw_board(theBoard)\n\u001b[0;32m     21\u001b[0m \u001b[38;5;28mprint\u001b[39m(\u001b[38;5;124m\"\u001b[39m\u001b[38;5;124mIt\u001b[39m\u001b[38;5;124m'\u001b[39m\u001b[38;5;124ms your turn,\u001b[39m\u001b[38;5;124m\"\u001b[39m \u001b[38;5;241m+\u001b[39m turn \u001b[38;5;241m+\u001b[39m \u001b[38;5;124m\"\u001b[39m\u001b[38;5;124m.Move to which place?\u001b[39m\u001b[38;5;124m\"\u001b[39m)\n\u001b[1;32m---> 23\u001b[0m move \u001b[38;5;241m=\u001b[39m \u001b[38;5;28;43mint\u001b[39;49m\u001b[43m(\u001b[49m\u001b[38;5;28;43minput\u001b[39;49m\u001b[43m(\u001b[49m\u001b[43m)\u001b[49m\u001b[43m)\u001b[49m        \n\u001b[0;32m     24\u001b[0m \u001b[38;5;28mprint\u001b[39m(theBoard[move])\n\u001b[0;32m     25\u001b[0m \u001b[38;5;28;01mif\u001b[39;00m \u001b[38;5;28mlist\u001b[39m[move] \u001b[38;5;241m==\u001b[39m \u001b[38;5;124m'\u001b[39m\u001b[38;5;124m \u001b[39m\u001b[38;5;124m'\u001b[39m:\n",
      "\u001b[1;31mValueError\u001b[0m: invalid literal for int() with base 10: ''"
     ]
    }
   ],
   "source": [
    "def game(theBoard):\n",
    "\n",
    "    turn = 'X'\n",
    "    count = 0\n",
    "    n = int(input(\"enter n for rows and cols\"))\n",
    "    theBoard = {}\n",
    "    for i in range(1,n+1):\n",
    "        theBoard[i] = ' '\n",
    "\n",
    "    board_keys = []\n",
    "\n",
    "    for key in theBoard:\n",
    "        board_keys.append(key)\n",
    "    l1 = list(theBoard.values())\n",
    "    print(theBoard)\n",
    "    #type(l1)\n",
    "    #theBoard\n",
    "\n",
    "    for i in range(len(l1)):\n",
    "        draw_board(theBoard)\n",
    "        print(turn + \"Which place?\")\n",
    "\n",
    "        move = int(input())        \n",
    "        print(theBoard[move])\n",
    "        if list[move] == ' ':\n",
    "            list[move] = turn\n",
    "            count += 1\n",
    "        else:\n",
    "            print(\"already filled.\\nMove?\")\n",
    "            continue\n",
    "\n",
    "        if count >= 5:\n",
    "            if theBoard['7'] == theBoard['8'] == theBoard['9'] != ' ': \n",
    "                draw_board(theBoard)\n",
    "                print(\"\\nGame Over.\\n\")                \n",
    "                print(\" **** \" +turn + \" won. ****\")                \n",
    "                break\n",
    "            elif theBoard['4'] == theBoard['5'] == theBoard['6'] != ' ': \n",
    "                draw_board(theBoard)\n",
    "                print(\"\\nGame Over.\\n\")                \n",
    "                print(\" **** \" +turn + \" won. ****\")\n",
    "                break\n",
    "            elif theBoard['1'] == theBoard['2'] == theBoard['3'] != ' ': \n",
    "                draw_board(theBoard)\n",
    "                print(\"\\nGame Over.\\n\")                \n",
    "                print(\" **** \" +turn + \" won. ****\")\n",
    "                break\n",
    "            elif theBoard['1'] == theBoard['4'] == theBoard['7'] != ' ': \n",
    "                draw_board(theBoard)\n",
    "                print(\"\\nGame Over.\\n\")                \n",
    "                print(\" **** \" +turn + \" won. ****\")\n",
    "                break\n",
    "            elif theBoard['2'] == theBoard['5'] == theBoard['8'] != ' ': \n",
    "                draw_board(theBoard)\n",
    "                print(\"\\nGame Over.\\n\")                \n",
    "                print(\" **** \" +turn + \" won. ****\")\n",
    "                break\n",
    "            elif theBoard['3'] == theBoard['6'] == theBoard['9'] != ' ': \n",
    "                draw_board(theBoard)\n",
    "                print(\"\\nGame Over.\\n\")                \n",
    "                print(\" **** \" +turn + \" won. ****\")\n",
    "                break \n",
    "            elif theBoard['7'] == theBoard['5'] == theBoard['3'] != ' ': \n",
    "                draw_board(theBoard)\n",
    "                print(\"\\nGame Over.\\n\")                \n",
    "                print(\" **** \" +turn + \" won. ****\")\n",
    "                break\n",
    "            elif theBoard['1'] == theBoard['5'] == theBoard['9'] != ' ': \n",
    "                draw_board(theBoard)\n",
    "                print(\"\\nGame Over.\\n\")                \n",
    "                print(\" **** \" +turn + \" won. ****\")\n",
    "                break \n",
    "\n",
    "        if count == 9:\n",
    "            print(\"\\nGame Over.\\n\")                \n",
    "            print(\"It's a Tie!!\")\n",
    "\n",
    "        if turn =='X':\n",
    "            turn = 'O'\n",
    "        else:\n",
    "            turn = 'X'        \n",
    "game(theBoard)        "
   ]
  }
 ],
 "metadata": {
  "kernelspec": {
   "display_name": "Python 3.10.6 64-bit",
   "language": "python",
   "name": "python3"
  },
  "language_info": {
   "codemirror_mode": {
    "name": "ipython",
    "version": 3
   },
   "file_extension": ".py",
   "mimetype": "text/x-python",
   "name": "python",
   "nbconvert_exporter": "python",
   "pygments_lexer": "ipython3",
   "version": "3.10.5"
  },
  "orig_nbformat": 4,
  "vscode": {
   "interpreter": {
    "hash": "26de051ba29f2982a8de78e945f0abaf191376122a1563185a90213a26c5da77"
   }
  }
 },
 "nbformat": 4,
 "nbformat_minor": 2
}
