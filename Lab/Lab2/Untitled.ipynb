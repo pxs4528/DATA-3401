{
 "cells": [
  {
   "cell_type": "code",
   "execution_count": 21,
   "id": "22948852",
   "metadata": {},
   "outputs": [
    {
     "name": "stdout",
     "output_type": "stream",
     "text": [
      "Parth Vijaykumar Sharma\n",
      "arth Sharma\n",
      "rth Sharma\n",
      "\n"
     ]
    }
   ],
   "source": [
    "name = \"Parth Vijaykumar Sharma\"\n",
    "print(name)\n",
    "print('Parth Sharma'[1:])\n",
    "print('Parth Sharma'[2:])\n",
    "print('Parth Sharma'[])\n"
   ]
  },
  {
   "cell_type": "code",
   "execution_count": null,
   "id": "c5befb77",
   "metadata": {},
   "outputs": [],
   "source": []
  },
  {
   "cell_type": "code",
   "execution_count": null,
   "id": "e9b6bbcc",
   "metadata": {},
   "outputs": [],
   "source": []
  }
 ],
 "metadata": {
  "kernelspec": {
   "display_name": "Python 3.10.4 64-bit",
   "language": "python",
   "name": "python3"
  },
  "language_info": {
   "codemirror_mode": {
    "name": "ipython",
    "version": 3
   },
   "file_extension": ".py",
   "mimetype": "text/x-python",
   "name": "python",
   "nbconvert_exporter": "python",
   "pygments_lexer": "ipython3",
   "version": "3.10.4"
  },
  "vscode": {
   "interpreter": {
    "hash": "916dbcbb3f70747c44a77c7bcd40155683ae19c65e1c03b4aa3499c5328201f1"
   }
  }
 },
 "nbformat": 4,
 "nbformat_minor": 5
}
