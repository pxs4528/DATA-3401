{
 "cells": [
  {
   "cell_type": "markdown",
   "metadata": {},
   "source": [
    "#Problem 1:\n",
    "Write a script that defines two strings: your first name and last name, and prints them in reverse order with a space between them."
   ]
  },
  {
   "cell_type": "code",
   "execution_count": 3,
   "metadata": {},
   "outputs": [
    {
     "name": "stdout",
     "output_type": "stream",
     "text": [
      "Sharma Parth Vijaykumar\n"
     ]
    }
   ],
   "source": [
    "first_name = \"Parth Vijaykumar\"\n",
    "last_name = \"Sharma\"\n",
    "print(last_name + \" \" + first_name)"
   ]
  },
  {
   "cell_type": "markdown",
   "metadata": {},
   "source": [
    "#Problem 2: Write a print command that displays the following (replace info)\n"
   ]
  },
  {
   "cell_type": "code",
   "execution_count": 2,
   "metadata": {},
   "outputs": [
    {
     "name": "stdout",
     "output_type": "stream",
     "text": [
      "My name is Parth Sharma\\ I am a CompSci Major\\ -----------\\ This is my Python String\n"
     ]
    }
   ],
   "source": [
    "print('My name is Parth Sharma\\ I am a CompSci Major\\ -----------\\ This is my Python String')"
   ]
  },
  {
   "cell_type": "markdown",
   "metadata": {},
   "source": [
    "#Problem 3: Think about what the results would be for the following expressions, and then type them into the terminal to verify your answers. Briefly explain the results for each one."
   ]
  },
  {
   "cell_type": "code",
   "execution_count": null,
   "metadata": {},
   "outputs": [],
   "source": [
    "1/2 #simple division returning float 0.5\n",
    "int(1/2) #converts the output to int division so just 0\n",
    "int(9/10) #converts the output to int division so just 0\n",
    "-5**2 # returns -25 because it means -5^2 negative sign is applied after the power rule\n",
    "(-5) ** 2  #retuen 25 because it means -5 * -5 and negative sign cancel out\n",
    "10-6/2  #It first does 6/2 = 3; then 10-3 = 7.0\n",
    "5*4/2*3 #It does 4/2 first = 2 then 2*5*3 = 30.0\n",
    "5*4/2**2*3 #It does 2**2 = 4 then 4/4 = 1 then 5*1*3 = 15.0\n",
    "2^10 #This is bitwise XOR opertor thats why the result is 8"
   ]
  },
  {
   "cell_type": "markdown",
   "metadata": {},
   "source": [
    "Problem 4:\n",
    "Write code that will print your name 10 times but without you writing your name out 10 times."
   ]
  },
  {
   "cell_type": "code",
   "execution_count": 9,
   "metadata": {},
   "outputs": [
    {
     "name": "stdout",
     "output_type": "stream",
     "text": [
      "Parth Vijaykumar Sharma\n",
      "\n",
      "Parth Vijaykumar Sharma\n",
      "\n",
      "Parth Vijaykumar Sharma\n",
      "\n",
      "Parth Vijaykumar Sharma\n",
      "\n",
      "Parth Vijaykumar Sharma\n",
      "\n",
      "Parth Vijaykumar Sharma\n",
      "\n",
      "Parth Vijaykumar Sharma\n",
      "\n",
      "Parth Vijaykumar Sharma\n",
      "\n",
      "Parth Vijaykumar Sharma\n",
      "\n",
      "Parth Vijaykumar Sharma\n",
      "\n"
     ]
    }
   ],
   "source": [
    "for name in range(10):\n",
    "    print(\"Parth Vijaykumar Sharma\\n\")\n"
   ]
  },
  {
   "cell_type": "markdown",
   "metadata": {},
   "source": [
    "Problem 5:\n",
    "Define the list x = [1,2,3,4,'a','b','c','d']\n",
    "\n",
    "Use list indexing commands to print every other element of the list starting with 2\n",
    "Use list indexing commands to print every third element of the list starting at 'd' and going backward\n",
    "Use list indexing commands to print elements 4 through 'c'"
   ]
  },
  {
   "cell_type": "code",
   "execution_count": 22,
   "metadata": {},
   "outputs": [
    {
     "name": "stdout",
     "output_type": "stream",
     "text": [
      "[2, 4, 'b', 'd']\n",
      "['d', 'a', 2]\n",
      "[4, 'a', 'b', 'c']\n"
     ]
    }
   ],
   "source": [
    "x = [1,2,3,4,'a','b','c','d']\n",
    "print(x[1::2])\n",
    "print(x[-1::-3])\n",
    "print(x[3:7])"
   ]
  }
 ],
 "metadata": {
  "kernelspec": {
   "display_name": "Python 3 (ipykernel)",
   "language": "python",
   "name": "python3"
  },
  "language_info": {
   "codemirror_mode": {
    "name": "ipython",
    "version": 3
   },
   "file_extension": ".py",
   "mimetype": "text/x-python",
   "name": "python",
   "nbconvert_exporter": "python",
   "pygments_lexer": "ipython3",
   "version": "3.10.4"
  },
  "vscode": {
   "interpreter": {
    "hash": "916dbcbb3f70747c44a77c7bcd40155683ae19c65e1c03b4aa3499c5328201f1"
   }
  }
 },
 "nbformat": 4,
 "nbformat_minor": 2
}
