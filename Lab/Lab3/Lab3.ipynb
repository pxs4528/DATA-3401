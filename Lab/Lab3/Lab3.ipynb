{
 "cells": [
  {
   "cell_type": "markdown",
   "id": "4356f79f",
   "metadata": {},
   "source": [
    "Problem 1:\n",
    "Write a function/script that reads takes a string and returns True if the string is a palindrome. (A palindrome is a string that reads the same forwards and backwards, like 'racecar' or 'tacocat'.)"
   ]
  },
  {
   "cell_type": "code",
   "execution_count": null,
   "id": "5f32a0fa",
   "metadata": {},
   "outputs": [],
   "source": [
    "def palindrome():\n",
    "    x = input(\"enter a string\")\n",
    "    y = x[::-1]\n",
    "    if (x == y):\n",
    "        return True\n",
    "    else:\n",
    "        return False               \n",
    "z = palindrome()\n",
    "z"
   ]
  },
  {
   "cell_type": "markdown",
   "id": "2d420038",
   "metadata": {},
   "source": [
    "Problem 2:\n",
    "Write a function/script that takes an integer input between 1 and 10. If the input is 4, 5, or 6, then display a message 'Congratulations, you win the prize!'. If the input is less than 4 or greater than 6, then display a mesage 'Sorry, try again.' If the input is less than 1, greater than 10, or not an integer, display a message 'Invalid input, please input an integer between 1 and 10'."
   ]
  },
  {
   "cell_type": "code",
   "execution_count": null,
   "id": "79fb79df",
   "metadata": {},
   "outputs": [],
   "source": [
    "def my_func():\n",
    "    x = int(input(\"enter integers between 1 and 10\"))\n",
    "    if (x == 4):\n",
    "        print(\"Congtratulations, you win the prize!\")\n",
    "    elif(x == 5):\n",
    "        print(\"Congtratulations, you win the prize!\")\n",
    "    elif(x == 6):\n",
    "        print(\"Congtratulations, you win the prize!\")\n",
    "    elif(1 < x < 4):\n",
    "        print(\"Sorry try again!\")\n",
    "    elif(10 > x > 6):\n",
    "        print(\"Sorry try again!\")\n",
    "    elif(x < 1):\n",
    "        print(\"Invalid Input, please input an integer between 1 and 10!\")\n",
    "    elif(x > 10):\n",
    "        print(\"Invalid Input, please input an integer between 1 and 10!\")\n",
    "\n",
    "my_func()"
   ]
  },
  {
   "cell_type": "markdown",
   "id": "8547cd44",
   "metadata": {},
   "source": [
    "Problem 3:\n",
    "Write two functions even(x) and odd(x) (or scripts; these do not need to be named) that test if an integer x is even (or odd), and returns True if x is even (or odd) and False otherwise. Test both of your functions for correctness in the second and third cells below"
   ]
  },
  {
   "cell_type": "code",
   "execution_count": null,
   "id": "544057a5",
   "metadata": {},
   "outputs": [],
   "source": [
    "def is_even():\n",
    "    x = int(input(\"enter an integer to test even\"))\n",
    "    if(x % 2 == 0):\n",
    "        print(\"The number is even\")\n",
    "    else:\n",
    "        print(\"its not even\")\n",
    "def is_odd():\n",
    "    x = int(input(\"enter an integer to test odd\"))\n",
    "    if(x % 2 != 0):\n",
    "        print(\"The number is odd\")\n",
    "    else:\n",
    "        print(\"its not odd\")\n",
    "\n",
    "is_even()\n",
    "is_odd()"
   ]
  },
  {
   "cell_type": "markdown",
   "id": "b7d05703",
   "metadata": {},
   "source": [
    "Problem 4:\n",
    "Write a function/script that takes in a list of numbers, and outputs the maximum number in the list."
   ]
  },
  {
   "cell_type": "code",
   "execution_count": null,
   "id": "7edb294e",
   "metadata": {},
   "outputs": [],
   "source": [
    "list = []\n",
    "n = int(input(\"enter number of elements\"))\n",
    "for i in range(0,n):\n",
    "    p = int(input())\n",
    "    list.append(p)\n",
    "print(list)\n",
    "largest = list[0] \n",
    "for i in range(1,n):\n",
    "    if(list[i] > largest):\n",
    "        largest = list[i]\n",
    "largest"
   ]
  },
  {
   "cell_type": "markdown",
   "id": "1be9f86c",
   "metadata": {},
   "source": [
    "Problem 5:\n",
    "Write a function/script that takes a list of numbers as input and returns a list of the subset of elements that are less that 10. Test your solution."
   ]
  },
  {
   "cell_type": "code",
   "execution_count": null,
   "id": "bcabdf27",
   "metadata": {},
   "outputs": [],
   "source": [
    "list = []\n",
    "n = int(input(\"enter number of elements\"))\n",
    "for i in range(0,n):\n",
    "    p = int(input())\n",
    "    list.append(p)\n",
    "#print(list)\n",
    "subset = []\n",
    "for i in range(0,n):\n",
    "    if(list[i] < 10):\n",
    "        subset.append(list[i])\n",
    "    else:\n",
    "        break\n",
    "print(subset)"
   ]
  },
  {
   "cell_type": "markdown",
   "id": "e5e7cc6d",
   "metadata": {},
   "source": [
    "Problem 6:\n",
    "Write a function/script that takes a number x_max as input and returns a function that performs the same task as Problem 5, but for x_max instead of 10."
   ]
  },
  {
   "cell_type": "code",
   "execution_count": null,
   "id": "b0f0f6fc",
   "metadata": {},
   "outputs": [],
   "source": [
    "list = []\n",
    "x_max = int(input(\"enter the max value\"))\n",
    "n = int(input(\"enter number of elements\"))\n",
    "for i in range(0,n):\n",
    "    p = int(input())\n",
    "    list.append(p)\n",
    "#print(list)\n",
    "subset = []\n",
    "for i in range(0,n):\n",
    "    if(list[i] < x_max):\n",
    "        subset.append(list[i])\n",
    "    else:\n",
    "        break\n",
    "print(subset)"
   ]
  },
  {
   "cell_type": "markdown",
   "id": "fbaf6456",
   "metadata": {},
   "source": [
    "Problem 7:\n",
    "Write a function/script that takes an integer and returns all its divisors (for example, the divisors of 18 are 1, 2, 3, 6, 9, and 18)"
   ]
  },
  {
   "cell_type": "code",
   "execution_count": null,
   "id": "bb4c77af",
   "metadata": {},
   "outputs": [],
   "source": [
    "x = int(input(\"enter an integer\"))\n",
    "list = []\n",
    "for i in range(1, x+1):\n",
    "    if(x % i == 0):\n",
    "        list.append(i)\n",
    "print(list)"
   ]
  },
  {
   "cell_type": "markdown",
   "id": "9b2df37c",
   "metadata": {},
   "source": [
    "Problem 8:\n",
    "A recursive sequence is obtained as follows. , , and for a given integer n, . Write a function or script that computes  for a given integer n. Note that , for example. Test your function with , , and ."
   ]
  },
  {
   "cell_type": "code",
   "execution_count": null,
   "id": "a9c2a725",
   "metadata": {},
   "outputs": [],
   "source": [
    "from array import array\n",
    "lst = [1,2]\n",
    "x = int(input(\"enter the limit of integers\"))\n",
    "for i in range(2,x):\n",
    "    one = lst[i - 1]\n",
    "    two = lst[i - 2]\n",
    "    o = 2*one - two\n",
    "    lst.append(o)\n",
    "print(lst)"
   ]
  },
  {
   "cell_type": "markdown",
   "id": "6d4a0cc0",
   "metadata": {},
   "source": [
    "Problem 9:\n",
    "Write a Rock-Paper-Scissors game function/script, that takes 2 strings, the inputs of player 1 and player 2, and output 1 or 2 corresponding to which player wins, or 0 if draw. (You may find the input command useful: a = input(\"Player 1 move\"))\n",
    "\n",
    "Implement a Rock-Paper-Scissors game by soliciting input from 2 players, testing with this function.\n",
    "\n",
    "Remember the rules:\n",
    "\n",
    "Rock beats scissors\n",
    "Scissors beats paper\n",
    "Paper beats rock"
   ]
  },
  {
   "cell_type": "code",
   "execution_count": null,
   "id": "78ac52c2",
   "metadata": {},
   "outputs": [],
   "source": [
    "a = input(\"Player 1 move\")\n",
    "b = input(\"Player 2 move\")\n",
    "if(a == \"rock\"):\n",
    "    if(b == \"rock\"):\n",
    "        print(\"0\")\n",
    "    if(b == \"scissors\"):\n",
    "        print(\"player 1 wins\")\n",
    "    if(b == \"paper\"):\n",
    "        print(\"player 2 wins\")\n",
    "if(a == \"paper\"):\n",
    "    if(b == \"paper\"):\n",
    "        print(\"0\")\n",
    "    if(b == \"scissors\"):\n",
    "        print(\"player 2 wins\")\n",
    "    if(b == \"rock\"):\n",
    "        print(\"player 1 wins\")\n",
    "if(a == \"scissors\"):\n",
    "    if(b == \"scissors\"):\n",
    "        print(\"0\")\n",
    "    if(b == \"rock\"):\n",
    "        print(\"player 2 wins\")\n",
    "    if(b == \"paper\"):\n",
    "        print(\"player 1 wins\")"
   ]
  }
 ],
 "metadata": {
  "kernelspec": {
   "display_name": "Python 3.10.5 64-bit",
   "language": "python",
   "name": "python3"
  },
  "language_info": {
   "codemirror_mode": {
    "name": "ipython",
    "version": 3
   },
   "file_extension": ".py",
   "mimetype": "text/x-python",
   "name": "python",
   "nbconvert_exporter": "python",
   "pygments_lexer": "ipython3",
   "version": "3.10.5"
  },
  "vscode": {
   "interpreter": {
    "hash": "26de051ba29f2982a8de78e945f0abaf191376122a1563185a90213a26c5da77"
   }
  }
 },
 "nbformat": 4,
 "nbformat_minor": 5
}
