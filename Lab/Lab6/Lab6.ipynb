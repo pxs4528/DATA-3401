{
 "cells": [
  {
   "cell_type": "markdown",
   "metadata": {},
   "source": [
    "## Exercise 1\n",
    "1. Generate an ndarray with 2 rows, each containing 10 random integers between 1 and 10 (*Hint:* Lookup syntax of `numpy.random.randint`)\n",
    "1. Assuming your array is called `a`, print all of the following commands: `a.shape`, `numpy.sum(a)`, `numpy.sum(a,axis=0)`, and `numpy.sum(a,axis=1)`.  Explain what each is doing."
   ]
  },
  {
   "cell_type": "code",
   "execution_count": 30,
   "metadata": {},
   "outputs": [
    {
     "name": "stdout",
     "output_type": "stream",
     "text": [
      "[[6 2 9 4 8 6 5 5 1 3]\n",
      " [4 9 5 7 8 4 2 5 4 3]]\n",
      "<class 'numpy.ndarray'>\n",
      "A.Shape is (It prints out the dimensions of the arrays which is 2 rows and 10 columns) -  (2, 10) \n",
      "np.sum(A) is (It sums the elements of array) -  100 \n",
      "np.sum(A, axis=0)  (It sums the elements of array and axis 0 means along the columns) -  [10 11 14 11 16 10  7 10  5  6] \n",
      "np.sum(A,axis=1) (It sums the elements of array and axis 1 means along the rows) -  [49 51]\n"
     ]
    }
   ],
   "source": [
    "import numpy as np\n",
    "import matplotlib.pyplot as plt\n",
    "x = (np.random.randint(0,10, size = 10))\n",
    "c = (np.random.randint(0,10, size = 10))\n",
    "A = np.vstack([x, c])\n",
    "print(A)\n",
    "print(type(A))\n",
    "print(\"A.Shape is (It prints out the dimensions of the arrays which is 2 rows and 10 columns) - \",\n",
    "         A.shape,\"\\nnp.sum(A) is (It sums the elements of array) - \", np.sum(A),\"\\nnp.sum(A, axis=0)  (It sums the elements of array and axis 0 means along the columns) - \",\n",
    "          np.sum(A,axis=0),\"\\nnp.sum(A,axis=1) (It sums the elements of array and axis 1 means along the rows) - \", np.sum(A,axis=1))"
   ]
  },
  {
   "cell_type": "markdown",
   "metadata": {},
   "source": [
    "## Exercise 2\n",
    "1. For a given variable `num_trials`, generate a `100` by `num_trials` ndarray with entries from the standard normal distribution (look up the syntax for `numpy.random.randn`).\n",
    "1. For each of the following values of `num_trials` $\\{10,100,1000,10000,1000000\\}$, generate the ndarray above.\n",
    "1. For each value of `num_trials`, sum the columns of the ndarray (you should get a new ndarray of length `num_trials`).\n",
    "1. Use pyplot to plot a histogram of the summed array for each value of `num_trials` and various numbers of bins.\n",
    "1. Discuss any trends you see."
   ]
  },
  {
   "cell_type": "code",
   "execution_count": 43,
   "metadata": {},
   "outputs": [
    {
     "data": {
      "text/plain": [
       "array([-0.21424015, -1.09225917,  0.90415398, -0.30623427,  2.31906579,\n",
       "        1.03819173,  1.24417003,  1.37214762, -0.21523766,  0.98693401])"
      ]
     },
     "execution_count": 43,
     "metadata": {},
     "output_type": "execute_result"
    }
   ],
   "source": [
    "import numpy as np\n",
    "import matplotlib.pyplot as plt\n",
    "num_trials = np.random.randn(10)\n",
    "num_trials1 = np.random.randn(100)\n",
    "num_trials2 = np.random.randn(1000)\n",
    "num_trials3 = np.random.randn(10000)\n",
    "num_trials4 = np.random.randn(1000000)\n",
    "x =  np.sum(num_trials, axis=0)\n",
    "x1 = np.sum(num_trials1, axis=0)\n",
    "x2 = np.sum(num_trials2, axis=0)\n",
    "x3 = np.sum(num_trials3, axis=0)\n",
    "x4 = np.sum(num_trials4, axis=0)\n",
    "num_trials"
   ]
  },
  {
   "cell_type": "markdown",
   "metadata": {},
   "source": [
    "## Exercise 3\n",
    "1. Look up the syntax for the function `numpy.random.choice`\n",
    "1. Create an array or list of the integers 1-10. \n",
    "1. Choose 15 integers from your list with the optional input argument to `numpy.random.choice` set to `replace=True`\n",
    "1. Choose 15 integers from your list with the optional input argument to `numpy.random.choice` set to `replace=False`\n",
    "1. What do you notice? Explain why?\n",
    "1. Create a new array or list of integers 1-4, and create a set of probabilities as follows `probs = [.8, .1, .1, 0]`\n",
    "1. Using the optional input argument `p=probs`, draw 20 numbers from your list 1-4 (with `replace=True`)\n",
    "1. Count the percent of times each integer is drawn.\n",
    "1. Repeat the last two items for drawing 100 numbers and then 1000 numbers from 1-4 with those probabilities\n",
    "1. What do you notice? Explain why."
   ]
  },
  {
   "cell_type": "code",
   "execution_count": 2,
   "metadata": {},
   "outputs": [
    {
     "name": "stdout",
     "output_type": "stream",
     "text": [
      "[1 1 1 1 1 1 1 1 3 1]\n",
      "[1 1 1 1 2 1 1 1 1 1]\n"
     ]
    }
   ],
   "source": [
    "import numpy as np\n",
    "import matplotlib.pyplot as plt\n",
    "lst = [1,2,3,4,5,6,7,8,9,10]\n",
    "a = np.random.choice(lst, size=15, replace=True)\n",
    "#b = np.random.choice(lst, size=15, replace=False)\n",
    "# True means a value can be chosen twice, False gives error as it runs out of unique values to give\n",
    "lst1 = [1,2,3,4]\n",
    "probs = [0.8, 0.1, 0.1, 0.0]\n",
    "a = np.random.choice(lst1, size=10, replace=True, p=probs)\n",
    "b = np.random.choice(lst1, size=10, replace=True, p=probs)\n",
    "print(a)\n",
    "print(b)"
   ]
  },
  {
   "cell_type": "markdown",
   "metadata": {},
   "source": [
    "## Exercise 4\n",
    "1. Write a function that rolls a dice `n` times for a given integer `n` and computes a *running percentage* of times each number is rolled (# of times 1 has been rolled)/(# of rolls so far) and so on. That is, at the `i`-th roll, you should compute (# of 1s)/i, (# of 2s)/i, ... and store these values.\n",
    "1. Modify this function to take in a probability distribution over the 6 numbers of the form `p=np.array([p1,p2,p3,p4,p5,p6])` and roll a dice `n` times with these probabilities\n",
    "1. Run your function from part 1 with $n=1000$ and graph the rolling averages for all numbers vs. `i in range(n)`\n",
    "1. Run your function from part 2 with $n=1000$ and $p= [.2,.1,.2,.1..1,.3]$\n",
    "1. Use the plots above to justify that the first dice is fair and the second is unfair"
   ]
  },
  {
   "cell_type": "code",
   "execution_count": 41,
   "metadata": {},
   "outputs": [
    {
     "name": "stdout",
     "output_type": "stream",
     "text": [
      "\n",
      "\n",
      "FINALLY\n",
      "ones =  17 \n",
      "twos =  10 \n",
      "threes =  18 \n",
      "fours =  11 \n",
      "fives =  11 \n",
      "sixes =  33\n",
      "\n",
      "FINALLY\n",
      "ones =  17.0 \n",
      "twos =  10.0 \n",
      "threes =  18.0 \n",
      "fours =  11.0 \n",
      "fives =  11.0 \n",
      "sixes =  33.0\n"
     ]
    }
   ],
   "source": [
    "import numpy as np\n",
    "import matplotlib.pyplot as plt\n",
    "n = 100\n",
    "i = 5 #i - the roll i wanna stop at\n",
    "ones = 0\n",
    "twos = 0\n",
    "threes = 0\n",
    "fours = 0\n",
    "fives = 0\n",
    "sixes = 0\n",
    "p = np.array([0.2,0.1,0.2,0.1,0.1,0.3])\n",
    "for k in range(n):\n",
    "    #print(\"Role number \", k+1)\n",
    "    a = np.random.choice([1,2,3,4,5,6], replace=True, p=p)\n",
    "    if (a == 1):\n",
    "        ones = ones + 1\n",
    "    elif (a == 2):\n",
    "        twos = twos + 1\n",
    "    elif (a == 3):\n",
    "        threes = threes + 1\n",
    "    elif (a == 4):\n",
    "        fours = fours + 1\n",
    "    elif (a == 5):\n",
    "        fives = fives + 1\n",
    "    elif (a == 6):\n",
    "        sixes = sixes + 1\n",
    "    #print(\"ones = \", ones, \"\\ntwos = \", twos, \"\\nthrees = \", threes, \"\\nfours = \", fours, \"\\nfives = \", fives, \"\\nsixes = \", sixes)\n",
    "print(\"\\n\\nFINALLY\\nones = \", ones, \"\\ntwos = \", twos, \"\\nthrees = \", threes, \"\\nfours = \", fours, \"\\nfives = \", fives, \"\\nsixes = \", sixes)\n",
    "print(\"\\nFINALLY\\nones = \", (ones/n) * 100, \"\\ntwos = \", (twos/n) * 100, \"\\nthrees = \", (threes/n) * 100, \"\\nfours = \", (fours/n) * 100, \"\\nfives = \", (fives/n) * 100, \"\\nsixes = \", (sixes/n) * 100)"
   ]
  }
 ],
 "metadata": {
  "kernelspec": {
   "display_name": "Python 3.10.5 64-bit",
   "language": "python",
   "name": "python3"
  },
  "language_info": {
   "codemirror_mode": {
    "name": "ipython",
    "version": 3
   },
   "file_extension": ".py",
   "mimetype": "text/x-python",
   "name": "python",
   "nbconvert_exporter": "python",
   "pygments_lexer": "ipython3",
   "version": "3.10.5"
  },
  "orig_nbformat": 4,
  "vscode": {
   "interpreter": {
    "hash": "26de051ba29f2982a8de78e945f0abaf191376122a1563185a90213a26c5da77"
   }
  }
 },
 "nbformat": 4,
 "nbformat_minor": 2
}
