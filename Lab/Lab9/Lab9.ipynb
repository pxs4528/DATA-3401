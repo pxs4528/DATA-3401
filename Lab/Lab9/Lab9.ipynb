{
 "cells": [
  {
   "cell_type": "markdown",
   "metadata": {},
   "source": [
    "## Exercise 1"
   ]
  },
  {
   "cell_type": "code",
   "execution_count": 59,
   "metadata": {},
   "outputs": [
    {
     "name": "stdout",
     "output_type": "stream",
     "text": [
      "p appeares 8 times!\n",
      "a appeares 35 times!\n",
      "e appeares 54 times!\n",
      "' appeares 8 times!\n",
      "  appeares 103 times!\n"
     ]
    }
   ],
   "source": [
    "def count_char(s):\n",
    "    file = open(\"Shakespeare.txt\", 'r')\n",
    "    contents = file.read()\n",
    "    #print(contents) print when needed output too long\n",
    "    k = 0\n",
    "    for i in contents:\n",
    "        if i == s:\n",
    "            k = k + 1\n",
    "    print(s, \"appeares\", k, \"times!\")\n",
    "    file.close()\n",
    "s = (input(\"Enter the character you want to search: \"))\n",
    "count_char(s)\n",
    "count_char('a')\n",
    "count_char('e')\n",
    "count_char(\"'\")\n",
    "count_char(\" \")"
   ]
  },
  {
   "cell_type": "markdown",
   "metadata": {},
   "source": [
    "## Exercise 2"
   ]
  },
  {
   "cell_type": "code",
   "execution_count": 60,
   "metadata": {},
   "outputs": [],
   "source": [
    "delimeter1 = 'a'\n",
    "replacement = '#'\n",
    "file = open(\"Shakespeare.txt\", 'r+')\n",
    "contents = file.read()\n",
    "\n",
    "def replace_string(string, char, replacement):\n",
    "    lst = list(string)\n",
    "    for i in range(len(lst)):\n",
    "        if(lst[i] == char):\n",
    "            lst[i] = replacement\n",
    "    p = (\"\".join(lst))\n",
    "    file_write = open(\"Shakespeare_modified.txt\", \"w\")\n",
    "    file_write.write(p)\n",
    "    file.close()\n",
    "    file_write.close()\n",
    "replace_string(contents, delimeter1, replacement)  "
   ]
  },
  {
   "cell_type": "markdown",
   "metadata": {},
   "source": [
    "## Exercise 3"
   ]
  },
  {
   "cell_type": "code",
   "execution_count": 61,
   "metadata": {},
   "outputs": [
    {
     "name": "stdout",
     "output_type": "stream",
     "text": [
      "This is for 2 as input: \n",
      " ['So', 'is', 'it', 'me', 'as', 'by', 'a', 'to', 'a', 'of', 'in', \"O'\", 'in', 'my', 'is', 'as', 'As', 'so', 'As', 'in', 'of', 'I', 'to']\n",
      "This is for 4 as input: \n",
      " ['So', 'is', 'it', 'not', 'with', 'me', 'as', 'with', 'that', 'Muse', 'by', 'a', 'to', 'his', 'Who', 'for', 'doth', 'use', 'And', 'fair', 'with', 'his', 'fair', 'doth', 'a', 'of', 'With', 'sun', 'and', 'with', 'and', 'rich', 'With', 'and', 'all', 'rare', 'That', 'air', 'in', 'this', 'huge', \"O'\", 'let', 'me,', 'true', 'in', 'but', 'And', 'then', 'me,', 'my', 'love', 'is', 'as', 'fair', 'As', 'any', 'not', 'so', 'As', 'gold', 'in', 'air:', 'Let', 'them', 'say', 'more', 'than', 'like', 'of', 'I', 'will', 'not', 'that', 'not', 'to']\n",
      "This is for 6 as input: \n",
      " ['So', 'is', 'it', 'not', 'with', 'me', 'as', 'with', 'that', 'Muse', 'by', 'a', 'beauty', 'to', 'his', 'verse,', 'Who', 'heaven', 'itself', 'for', 'doth', 'use', 'And', 'every', 'fair', 'with', 'his', 'fair', 'doth', 'Making', 'a', 'of', 'proud', 'With', 'sun', 'and', 'moon,', 'with', 'earth', 'and', \"sea's\", 'rich', 'gems,', 'With', 'and', 'all', 'things', 'rare', 'That', 'air', 'in', 'this', 'huge', 'hems.', \"O'\", 'let', 'me,', 'true', 'in', 'love,', 'but', 'truly', 'write,', 'And', 'then', 'me,', 'my', 'love', 'is', 'as', 'fair', 'As', 'any', 'child,', 'though', 'not', 'so', 'bright', 'As', 'those', 'gold', \"fix'd\", 'in', 'air:', 'Let', 'them', 'say', 'more', 'than', 'like', 'of', 'well;', 'I', 'will', 'not', 'praise', 'that', 'not', 'to', 'sell.']\n"
     ]
    }
   ],
   "source": [
    "def replace_string1(string, char, replacement):\n",
    "    lst = list(string)\n",
    "    for i in range(len(lst)):\n",
    "        if(lst[i] == char):\n",
    "            lst[i] = replacement\n",
    "    p = ((\"\".join(lst)))\n",
    "    return p\n",
    "def func(n):\n",
    "    file = open(\"Shakespeare.txt\", 'r')\n",
    "    contents = file.read()\n",
    "    lst = replace_string1(contents, '\\n', \" \")\n",
    "    txt = lst.split(\" \")\n",
    "    words = []\n",
    "    for x in txt:\n",
    "        if len(x) <= n:\n",
    "            words.append(x)\n",
    "    return words\n",
    "print(\"This is for 2 as input: \\n\", func(2))\n",
    "print(\"This is for 4 as input: \\n\", func(4))\n",
    "print(\"This is for 6 as input: \\n\", func(6))"
   ]
  }
 ],
 "metadata": {
  "kernelspec": {
   "display_name": "Python 3.10.5 64-bit",
   "language": "python",
   "name": "python3"
  },
  "language_info": {
   "codemirror_mode": {
    "name": "ipython",
    "version": 3
   },
   "file_extension": ".py",
   "mimetype": "text/x-python",
   "name": "python",
   "nbconvert_exporter": "python",
   "pygments_lexer": "ipython3",
   "version": "3.10.5"
  },
  "orig_nbformat": 4,
  "vscode": {
   "interpreter": {
    "hash": "26de051ba29f2982a8de78e945f0abaf191376122a1563185a90213a26c5da77"
   }
  }
 },
 "nbformat": 4,
 "nbformat_minor": 2
}
